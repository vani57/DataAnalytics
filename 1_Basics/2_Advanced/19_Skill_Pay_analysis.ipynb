{
 "cells": [
  {
   "cell_type": "code",
   "execution_count": 1,
   "metadata": {},
   "outputs": [
    {
     "name": "stderr",
     "output_type": "stream",
     "text": [
      "C:\\Users\\mamth\\AppData\\Local\\Packages\\PythonSoftwareFoundation.Python.3.11_qbz5n2kfra8p0\\LocalCache\\local-packages\\Python311\\site-packages\\tqdm\\auto.py:21: TqdmWarning: IProgress not found. Please update jupyter and ipywidgets. See https://ipywidgets.readthedocs.io/en/stable/user_install.html\n",
      "  from .autonotebook import tqdm as notebook_tqdm\n"
     ]
    }
   ],
   "source": [
    "import ast \n",
    "import pandas as pd\n",
    "from datasets import load_dataset \n",
    "import matplotlib.pyplot as plt\n",
    "\n",
    "dataset = load_dataset('lukebarousse/data_jobs')\n",
    "df = dataset['train'].to_pandas()\n",
    "\n",
    "df['job_posted_date'] = pd.to_datetime(df['job_posted_date'])\n",
    "df['job_skills'] = df['job_skills'].apply(lambda x: ast.literal_eval(x) if pd.notna(x) else x)"
   ]
  },
  {
   "cell_type": "code",
   "execution_count": 4,
   "metadata": {},
   "outputs": [],
   "source": [
    "df_DA_US = df[(df['job_title_short'] == 'Data Analyst') & (df['job_country'] =='United States')].copy()\n",
    "df_DA_US = df_DA_US.dropna(subset = ['salary_year_avg'])"
   ]
  },
  {
   "cell_type": "code",
   "execution_count": 6,
   "metadata": {},
   "outputs": [
    {
     "data": {
      "text/html": [
       "<div>\n",
       "<style scoped>\n",
       "    .dataframe tbody tr th:only-of-type {\n",
       "        vertical-align: middle;\n",
       "    }\n",
       "\n",
       "    .dataframe tbody tr th {\n",
       "        vertical-align: top;\n",
       "    }\n",
       "\n",
       "    .dataframe thead th {\n",
       "        text-align: right;\n",
       "    }\n",
       "</style>\n",
       "<table border=\"1\" class=\"dataframe\">\n",
       "  <thead>\n",
       "    <tr style=\"text-align: right;\">\n",
       "      <th></th>\n",
       "      <th>salary_year_avg</th>\n",
       "      <th>job_skills</th>\n",
       "    </tr>\n",
       "  </thead>\n",
       "  <tbody>\n",
       "    <tr>\n",
       "      <th>109</th>\n",
       "      <td>89000.0</td>\n",
       "      <td>python</td>\n",
       "    </tr>\n",
       "    <tr>\n",
       "      <th>109</th>\n",
       "      <td>89000.0</td>\n",
       "      <td>r</td>\n",
       "    </tr>\n",
       "    <tr>\n",
       "      <th>109</th>\n",
       "      <td>89000.0</td>\n",
       "      <td>alteryx</td>\n",
       "    </tr>\n",
       "    <tr>\n",
       "      <th>109</th>\n",
       "      <td>89000.0</td>\n",
       "      <td>tableau</td>\n",
       "    </tr>\n",
       "    <tr>\n",
       "      <th>180</th>\n",
       "      <td>90250.0</td>\n",
       "      <td>excel</td>\n",
       "    </tr>\n",
       "    <tr>\n",
       "      <th>...</th>\n",
       "      <td>...</td>\n",
       "      <td>...</td>\n",
       "    </tr>\n",
       "    <tr>\n",
       "      <th>784882</th>\n",
       "      <td>87500.0</td>\n",
       "      <td>sql</td>\n",
       "    </tr>\n",
       "    <tr>\n",
       "      <th>784882</th>\n",
       "      <td>87500.0</td>\n",
       "      <td>vba</td>\n",
       "    </tr>\n",
       "    <tr>\n",
       "      <th>784882</th>\n",
       "      <td>87500.0</td>\n",
       "      <td>tableau</td>\n",
       "    </tr>\n",
       "    <tr>\n",
       "      <th>784882</th>\n",
       "      <td>87500.0</td>\n",
       "      <td>excel</td>\n",
       "    </tr>\n",
       "    <tr>\n",
       "      <th>784882</th>\n",
       "      <td>87500.0</td>\n",
       "      <td>alteryx</td>\n",
       "    </tr>\n",
       "  </tbody>\n",
       "</table>\n",
       "<p>17440 rows × 2 columns</p>\n",
       "</div>"
      ],
      "text/plain": [
       "        salary_year_avg job_skills\n",
       "109             89000.0     python\n",
       "109             89000.0          r\n",
       "109             89000.0    alteryx\n",
       "109             89000.0    tableau\n",
       "180             90250.0      excel\n",
       "...                 ...        ...\n",
       "784882          87500.0        sql\n",
       "784882          87500.0        vba\n",
       "784882          87500.0    tableau\n",
       "784882          87500.0      excel\n",
       "784882          87500.0    alteryx\n",
       "\n",
       "[17440 rows x 2 columns]"
      ]
     },
     "execution_count": 6,
     "metadata": {},
     "output_type": "execute_result"
    }
   ],
   "source": [
    "df_DA_US = df_DA_US.explode('job_skills')\n",
    "df_DA_US[['salary_year_avg','job_skills']]"
   ]
  },
  {
   "cell_type": "code",
   "execution_count": 7,
   "metadata": {},
   "outputs": [
    {
     "data": {
      "text/html": [
       "<div>\n",
       "<style scoped>\n",
       "    .dataframe tbody tr th:only-of-type {\n",
       "        vertical-align: middle;\n",
       "    }\n",
       "\n",
       "    .dataframe tbody tr th {\n",
       "        vertical-align: top;\n",
       "    }\n",
       "\n",
       "    .dataframe thead th {\n",
       "        text-align: right;\n",
       "    }\n",
       "</style>\n",
       "<table border=\"1\" class=\"dataframe\">\n",
       "  <thead>\n",
       "    <tr style=\"text-align: right;\">\n",
       "      <th></th>\n",
       "      <th>count</th>\n",
       "      <th>median</th>\n",
       "    </tr>\n",
       "    <tr>\n",
       "      <th>job_skills</th>\n",
       "      <th></th>\n",
       "      <th></th>\n",
       "    </tr>\n",
       "  </thead>\n",
       "  <tbody>\n",
       "    <tr>\n",
       "      <th>python</th>\n",
       "      <td>1431</td>\n",
       "      <td>97500.00</td>\n",
       "    </tr>\n",
       "    <tr>\n",
       "      <th>tableau</th>\n",
       "      <td>1364</td>\n",
       "      <td>92875.00</td>\n",
       "    </tr>\n",
       "    <tr>\n",
       "      <th>r</th>\n",
       "      <td>893</td>\n",
       "      <td>92500.00</td>\n",
       "    </tr>\n",
       "    <tr>\n",
       "      <th>sql server</th>\n",
       "      <td>286</td>\n",
       "      <td>92500.00</td>\n",
       "    </tr>\n",
       "    <tr>\n",
       "      <th>sql</th>\n",
       "      <td>2508</td>\n",
       "      <td>91000.00</td>\n",
       "    </tr>\n",
       "    <tr>\n",
       "      <th>sas</th>\n",
       "      <td>926</td>\n",
       "      <td>90000.00</td>\n",
       "    </tr>\n",
       "    <tr>\n",
       "      <th>power bi</th>\n",
       "      <td>838</td>\n",
       "      <td>90000.00</td>\n",
       "    </tr>\n",
       "    <tr>\n",
       "      <th>powerpoint</th>\n",
       "      <td>462</td>\n",
       "      <td>85000.00</td>\n",
       "    </tr>\n",
       "    <tr>\n",
       "      <th>excel</th>\n",
       "      <td>1808</td>\n",
       "      <td>84392.00</td>\n",
       "    </tr>\n",
       "    <tr>\n",
       "      <th>word</th>\n",
       "      <td>461</td>\n",
       "      <td>81194.75</td>\n",
       "    </tr>\n",
       "  </tbody>\n",
       "</table>\n",
       "</div>"
      ],
      "text/plain": [
       "            count    median\n",
       "job_skills                 \n",
       "python       1431  97500.00\n",
       "tableau      1364  92875.00\n",
       "r             893  92500.00\n",
       "sql server    286  92500.00\n",
       "sql          2508  91000.00\n",
       "sas           926  90000.00\n",
       "power bi      838  90000.00\n",
       "powerpoint    462  85000.00\n",
       "excel        1808  84392.00\n",
       "word          461  81194.75"
      ]
     },
     "execution_count": 7,
     "metadata": {},
     "output_type": "execute_result"
    }
   ],
   "source": [
    "df_DA_US_group = df_DA_US.groupby('job_skills')['salary_year_avg'].agg(['count', 'median'])\n",
    "df_DA_top_pay = df_DA_US_group.sort_values(by ='median', ascending=False).head(10)\n",
    "df_DA_skills = df_DA_US_group.sort_values(by ='count', ascending = False).head(10).sort_values(by ='median', ascending=False).head(10)\n",
    "df_DA_skills"
   ]
  },
  {
   "cell_type": "code",
   "execution_count": 20,
   "metadata": {},
   "outputs": [
    {
     "data": {
      "image/png": "[encoded data removed]",
      "text/plain": [
       "<Figure size 640x480 with 2 Axes>"
      ]
     },
     "metadata": {},
     "output_type": "display_data"
    }
   ],
   "source": [
    "fig, ax =plt.subplots(2,1)\n",
    "\n",
    "df_DA_top_pay[::-1].plot(kind='barh', y='median', ax=ax[0], legend=False)\n",
    "ax[0].set_title('Top 10 Higest paid skills for Data Analytics')\n",
    "ax[0].set_ylabel('')\n",
    "ax[0].set_ylabel('')\n",
    "\n",
    "df_DA_skills[::-1].plot(kind='barh', y='median', ax=ax[1], legend=False)\n",
    "ax[1].set_xlim(ax[0].get_xlim())\n",
    "ax[1].set_title('Top 10 Most In-Demand skills for Data Analytics')\n",
    "ax[1].set_ylabel('')\n",
    "ax[1].set_ylabel('Median Salary (USD)')\n",
    "ax[1].set_xlim(ax[0].get_xlim())\n",
    "fig.tight_layout()"
   ]
  },
  {
   "cell_type": "code",
   "execution_count": null,
   "metadata": {},
   "outputs": [],
   "source": []
  }
 ],
 "metadata": {
  "kernelspec": {
   "display_name": "Python 3",
   "language": "python",
   "name": "python3"
  },
  "language_info": {
   "codemirror_mode": {
    "name": "ipython",
    "version": 3
   },
   "file_extension": ".py",
   "mimetype": "text/x-python",
   "name": "python",
   "nbconvert_exporter": "python",
   "pygments_lexer": "ipython3",
   "version": "3.11.undefined"
  }
 },
 "nbformat": 4,
 "nbformat_minor": 2
}
